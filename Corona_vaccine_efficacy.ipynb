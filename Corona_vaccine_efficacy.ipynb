{
 "cells": [
  {
   "cell_type": "markdown",
   "metadata": {},
   "source": [
    "# Covid vaccine\n",
    "* Playing with the Phase 3 trial data from Pfizer/BioNTech Covid-19 vaccine\n",
    "* Derived approximate case numbers based on the publicly available data (Pfizer website)\n",
    "* Calculate a confidence interval around the first reported '90 % efficiacy'"
   ]
  },
  {
   "cell_type": "code",
   "execution_count": 2,
   "metadata": {},
   "outputs": [],
   "source": [
    "import numpy as np\n",
    "from sklearn.utils import resample\n",
    "import matplotlib.pyplot as plt"
   ]
  },
  {
   "cell_type": "code",
   "execution_count": 3,
   "metadata": {},
   "outputs": [
    {
     "name": "stdout",
     "output_type": "stream",
     "text": [
      "21760 21684\n"
     ]
    }
   ],
   "source": [
    "# approximate phase 3 trial case numbers \n",
    "tot = 43538 # total number of trial participants\n",
    "vacc_pos = 9 # number of vaccinated participants with a following covid infection\n",
    "plac_pos = 85 # number of placebo participants with a following covid infection\n",
    "\n",
    "vacc_neg = int(tot/2-vacc_pos) # number of vaccinated participants without a covid infection\n",
    "plac_neg = int(tot/2-plac_pos) # number of placebo participants without a covid infection\n"
   ]
  },
  {
   "cell_type": "code",
   "execution_count": 6,
   "metadata": {},
   "outputs": [],
   "source": [
    "def efficacy(vacc_pos, plac_pos):\n",
    "    \"\"\"returns efficiacy in %'\"\"\"\n",
    "    return (plac_pos - vacc_pos)/plac_pos*100"
   ]
  },
  {
   "cell_type": "code",
   "execution_count": 18,
   "metadata": {},
   "outputs": [],
   "source": [
    "# generate data (array with 0 and 1, 0 for no infection, 1 for infection)\n",
    "D_V = np.concatenate([np.zeros(vacc_neg), np.ones(vacc_pos)]) # vaccinated participants\n",
    "D_P = np.concatenate([np.zeros(plac_neg), np.ones(plac_pos)]) # placebo participants"
   ]
  },
  {
   "cell_type": "code",
   "execution_count": 19,
   "metadata": {},
   "outputs": [],
   "source": [
    "# resample with replacement \n",
    "n = 1000\n",
    "vacc_pos_R = []\n",
    "plac_pos_R = []\n",
    "for i in range(n):\n",
    "    D_VR = resample(D_V, replace = True)\n",
    "    D_PR = resample(D_P, replace = True)\n",
    "\n",
    "    vacc_pos_R.append(np.sum(D_VR)) # counting the positive cases in the vaccinated group in the resampled data\n",
    "    plac_pos_R.append(np.sum(D_PR)) # counting the positive cases in the placebo group in the resampled data"
   ]
  },
  {
   "cell_type": "code",
   "execution_count": 24,
   "metadata": {},
   "outputs": [
    {
     "data": {
      "text/plain": [
       "<matplotlib.legend.Legend at 0x20ba88ceb50>"
      ]
     },
     "execution_count": 24,
     "metadata": {},
     "output_type": "execute_result"
    },
    {
     "data": {
      "image/png": "[encoded data removed]",
      "text/plain": [
       "<Figure size 432x288 with 1 Axes>"
      ]
     },
     "metadata": {
      "needs_background": "light"
     },
     "output_type": "display_data"
    }
   ],
   "source": [
    "# plotting the distribution of covid cases in vaccine and placebo group with 1000x resampling\n",
    "plt.hist(vacc_pos_R, 20, label = 'Vaccine positives')\n",
    "plt.hist(plac_pos_R, 20, label = 'Placebo positives')\n",
    "plt.legend()"
   ]
  },
  {
   "cell_type": "code",
   "execution_count": 32,
   "metadata": {},
   "outputs": [
    {
     "data": {
      "text/plain": [
       "Text(0.5, 0, 'Efficacy (%)')"
      ]
     },
     "execution_count": 32,
     "metadata": {},
     "output_type": "execute_result"
    },
    {
     "data": {
      "image/png": "[encoded data removed]",
      "text/plain": [
       "<Figure size 432x288 with 1 Axes>"
      ]
     },
     "metadata": {
      "needs_background": "light"
     },
     "output_type": "display_data"
    }
   ],
   "source": [
    "# plotting the resulting distribution of vaccine efficacy \n",
    "eff_R = efficacy(np.array(vacc_pos_R), np.array(plac_pos_R))\n",
    "plt.hist(eff_R, 20)\n",
    "plt.title('Bootstraped efficacy')\n",
    "plt.xlabel('Efficacy (%)')"
   ]
  },
  {
   "cell_type": "code",
   "execution_count": 38,
   "metadata": {},
   "outputs": [
    {
     "name": "stdout",
     "output_type": "stream",
     "text": [
      "81.6873610081542\n",
      "95.65560640732265\n",
      "89.24209015553849\n"
     ]
    }
   ],
   "source": [
    "# rough (not correct for skewed data like this) way to estimate the confidence interval: quantiles of the distribution \n",
    "print(np.quantile(eff_R, 0.025))\n",
    "print(np.quantile(eff_R, 0.975))\n",
    "print(np.mean(eff_R))"
   ]
  },
  {
   "cell_type": "code",
   "execution_count": null,
   "metadata": {},
   "outputs": [],
   "source": []
  }
 ],
 "metadata": {
  "kernelspec": {
   "display_name": "Python 3",
   "language": "python",
   "name": "python3"
  },
  "language_info": {
   "codemirror_mode": {
    "name": "ipython",
    "version": 3
   },
   "file_extension": ".py",
   "mimetype": "text/x-python",
   "name": "python",
   "nbconvert_exporter": "python",
   "pygments_lexer": "ipython3",
   "version": "3.8.5"
  }
 },
 "nbformat": 4,
 "nbformat_minor": 4
}
